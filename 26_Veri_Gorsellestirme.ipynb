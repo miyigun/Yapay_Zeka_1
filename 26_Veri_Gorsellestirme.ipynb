{
 "cells": [
  {
   "cell_type": "markdown",
   "metadata": {},
   "source": [
    "Veri görselleştirme için kullanılan kütüphaneler\n",
    "1-Matplotlib\n",
    "2-Seaborn:  İstatiksel veri görselleştirme kütüphanesidir\n",
    "3-Plotly:  Etkileşimli veri görselleştirme kütüphanesidir"
   ]
  },
  {
   "cell_type": "code",
   "execution_count": null,
   "metadata": {},
   "outputs": [],
   "source": []
  }
 ],
 "metadata": {
  "language_info": {
   "name": "python"
  },
  "orig_nbformat": 4
 },
 "nbformat": 4,
 "nbformat_minor": 2
}
