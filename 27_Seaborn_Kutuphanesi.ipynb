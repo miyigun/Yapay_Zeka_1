{
 "cells": [
  {
   "cell_type": "markdown",
   "metadata": {},
   "source": [
    "Seaborn kütüphanesi, Matplotlib tabanlı , İstatiksel bir Python veri görselleştirme kütüphanesidir.\n",
    "\n",
    "İşlevleri:\n",
    "1-Birden çok değişken arasındaki ilişkileri detaylı bir şekilde incelemek adına sunulan veri kümesi tabanlı bir uygulama programlama arayüzüdür.\n",
    "2-Kategorik değişkenleri gözlemlemek ve üzerinde istatiksel işlemler yapmak için destek sağlar.\n",
    "3-Karmaşık görselleştirmeler oluşturmayı sağlayan çoklu grafikleri destekler.\n",
    "4-Alt kümeler arasında karşılaştırma yapmak için tek değişkenli ve çift değişkenli görselleştirmeler sunar.\n",
    "5-Görselleştirmeyi daha anlaşılır hale getiren geniş renk skalası mevcuttur.\n",
    "\n",
    "Seaborn ve matplotlib kütüphanesi arasındaki farklar:\n",
    "1-Matplotlib kişiselleştirilebilir fakat plotları daha anlaşılır. Göze hitap eden şekle getirmek bir hayli zordur.\n",
    "2-Seaborn sahip olduğu renk paleti, arayüzler ve grafik çeşitleri ile kullanıcıya farklı çözümler sunar.\n",
    "3-Pandas kütüphanesi ile çalışırken Seaborn kolaylık sağlar."
   ]
  },
  {
   "cell_type": "code",
   "execution_count": null,
   "metadata": {},
   "outputs": [],
   "source": []
  }
 ],
 "metadata": {
  "language_info": {
   "name": "python"
  },
  "orig_nbformat": 4
 },
 "nbformat": 4,
 "nbformat_minor": 2
}
